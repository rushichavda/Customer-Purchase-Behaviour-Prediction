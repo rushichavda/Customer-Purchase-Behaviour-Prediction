{
  "cells": [
    {
      "cell_type": "markdown",
      "metadata": {
        "id": "caTPz4y7t6Yo"
      },
      "source": [
        "#### Co-authored by Rushi Chavda(20D100007), Pragyesh Gupta(200020094), Nidhi Chaudhary(200040088) , Ashish (22M1587) and Rathore(213174001) as a result of our ME781 Data Mining final project."
      ]
    },
    {
      "cell_type": "markdown",
      "metadata": {
        "id": "7j-xDJi5t6Yp"
      },
      "source": [
        "Based on Data set from UCI's Machine Learning Repository https://archive.ics.uci.edu/ml/datasets/Online+Shoppers+Purchasing+Intention+Dataset"
      ]
    },
    {
      "cell_type": "markdown",
      "metadata": {
        "id": "LyxXpsAV5Xie"
      },
      "source": [
        "\n",
        "The first and foremost step is to install and import the necessary libraires and this is done in the first step"
      ]
    },
    {
      "cell_type": "code",
      "execution_count": null,
      "metadata": {
        "colab": {
          "base_uri": "https://localhost:8080/"
        },
        "id": "Wom0pN_R5Xie",
        "outputId": "75b5ef23-fc93-467f-94d3-559449e04699"
      },
      "outputs": [
        {
          "output_type": "stream",
          "name": "stdout",
          "text": [
            "Looking in indexes: https://pypi.org/simple, https://us-python.pkg.dev/colab-wheels/public/simple/\n",
            "Requirement already satisfied: xgboost in /usr/local/lib/python3.7/dist-packages (0.90)\n",
            "Requirement already satisfied: scipy in /usr/local/lib/python3.7/dist-packages (from xgboost) (1.7.3)\n",
            "Requirement already satisfied: numpy in /usr/local/lib/python3.7/dist-packages (from xgboost) (1.21.6)\n"
          ]
        }
      ],
      "source": [
        "!pip install xgboost"
      ]
    },
    {
      "cell_type": "code",
      "execution_count": null,
      "metadata": {
        "id": "aTedZ3C6t6Yp"
      },
      "outputs": [],
      "source": [
        "import pandas as pd\n",
        "import numpy as np\n",
        "import seaborn as sns\n",
        "import matplotlib.pyplot as plt\n",
        "from sklearn.preprocessing import RobustScaler, StandardScaler, MinMaxScaler, OneHotEncoder\n",
        "from sklearn.model_selection import cross_val_score, train_test_split, cross_val_predict\n",
        "from sklearn.ensemble import RandomForestClassifier\n",
        "from sklearn.metrics import roc_auc_score\n",
        "import xgboost as xgb\n",
        "from xgboost import XGBClassifier"
      ]
    },
    {
      "cell_type": "markdown",
      "metadata": {
        "id": "yh2vzWmJt6Yt"
      },
      "source": [
        "## Reading Data"
      ]
    },
    {
      "cell_type": "markdown",
      "metadata": {
        "id": "khFrpzDl5Xih"
      },
      "source": [
        "Then, we proceed with reading the required data.\n",
        "The dataset link is used to download the onlinne_shoppers_intention.csv file and that is read below"
      ]
    },
    {
      "cell_type": "code",
      "execution_count": null,
      "metadata": {
        "colab": {
          "base_uri": "https://localhost:8080/",
          "height": 270
        },
        "id": "ORiIJzayt6Yu",
        "outputId": "44c78b7a-3203-4fc5-883b-e54446637f2b"
      },
      "outputs": [
        {
          "output_type": "execute_result",
          "data": {
            "text/plain": [
              "   Administrative  Administrative_Duration  Informational  \\\n",
              "0               0                      0.0              0   \n",
              "1               0                      0.0              0   \n",
              "2               0                      0.0              0   \n",
              "3               0                      0.0              0   \n",
              "4               0                      0.0              0   \n",
              "\n",
              "   Informational_Duration  ProductRelated  ProductRelated_Duration  \\\n",
              "0                     0.0               1                 0.000000   \n",
              "1                     0.0               2                64.000000   \n",
              "2                     0.0               1                 0.000000   \n",
              "3                     0.0               2                 2.666667   \n",
              "4                     0.0              10               627.500000   \n",
              "\n",
              "   BounceRates  ExitRates  PageValues  SpecialDay Month  OperatingSystems  \\\n",
              "0         0.20       0.20         0.0         0.0   Feb                 1   \n",
              "1         0.00       0.10         0.0         0.0   Feb                 2   \n",
              "2         0.20       0.20         0.0         0.0   Feb                 4   \n",
              "3         0.05       0.14         0.0         0.0   Feb                 3   \n",
              "4         0.02       0.05         0.0         0.0   Feb                 3   \n",
              "\n",
              "   Browser  Region  TrafficType        VisitorType  Weekend  Revenue  \n",
              "0        1       1            1  Returning_Visitor    False    False  \n",
              "1        2       1            2  Returning_Visitor    False    False  \n",
              "2        1       9            3  Returning_Visitor    False    False  \n",
              "3        2       2            4  Returning_Visitor    False    False  \n",
              "4        3       1            4  Returning_Visitor     True    False  "
            ],
            "text/html": [
              "\n",
              "  <div id=\"df-4b4463de-9a15-4e65-8186-a38e2412ee82\">\n",
              "    <div class=\"colab-df-container\">\n",
              "      <div>\n",
              "<style scoped>\n",
              "    .dataframe tbody tr th:only-of-type {\n",
              "        vertical-align: middle;\n",
              "    }\n",
              "\n",
              "    .dataframe tbody tr th {\n",
              "        vertical-align: top;\n",
              "    }\n",
              "\n",
              "    .dataframe thead th {\n",
              "        text-align: right;\n",
              "    }\n",
              "</style>\n",
              "<table border=\"1\" class=\"dataframe\">\n",
              "  <thead>\n",
              "    <tr style=\"text-align: right;\">\n",
              "      <th></th>\n",
              "      <th>Administrative</th>\n",
              "      <th>Administrative_Duration</th>\n",
              "      <th>Informational</th>\n",
              "      <th>Informational_Duration</th>\n",
              "      <th>ProductRelated</th>\n",
              "      <th>ProductRelated_Duration</th>\n",
              "      <th>BounceRates</th>\n",
              "      <th>ExitRates</th>\n",
              "      <th>PageValues</th>\n",
              "      <th>SpecialDay</th>\n",
              "      <th>Month</th>\n",
              "      <th>OperatingSystems</th>\n",
              "      <th>Browser</th>\n",
              "      <th>Region</th>\n",
              "      <th>TrafficType</th>\n",
              "      <th>VisitorType</th>\n",
              "      <th>Weekend</th>\n",
              "      <th>Revenue</th>\n",
              "    </tr>\n",
              "  </thead>\n",
              "  <tbody>\n",
              "    <tr>\n",
              "      <th>0</th>\n",
              "      <td>0</td>\n",
              "      <td>0.0</td>\n",
              "      <td>0</td>\n",
              "      <td>0.0</td>\n",
              "      <td>1</td>\n",
              "      <td>0.000000</td>\n",
              "      <td>0.20</td>\n",
              "      <td>0.20</td>\n",
              "      <td>0.0</td>\n",
              "      <td>0.0</td>\n",
              "      <td>Feb</td>\n",
              "      <td>1</td>\n",
              "      <td>1</td>\n",
              "      <td>1</td>\n",
              "      <td>1</td>\n",
              "      <td>Returning_Visitor</td>\n",
              "      <td>False</td>\n",
              "      <td>False</td>\n",
              "    </tr>\n",
              "    <tr>\n",
              "      <th>1</th>\n",
              "      <td>0</td>\n",
              "      <td>0.0</td>\n",
              "      <td>0</td>\n",
              "      <td>0.0</td>\n",
              "      <td>2</td>\n",
              "      <td>64.000000</td>\n",
              "      <td>0.00</td>\n",
              "      <td>0.10</td>\n",
              "      <td>0.0</td>\n",
              "      <td>0.0</td>\n",
              "      <td>Feb</td>\n",
              "      <td>2</td>\n",
              "      <td>2</td>\n",
              "      <td>1</td>\n",
              "      <td>2</td>\n",
              "      <td>Returning_Visitor</td>\n",
              "      <td>False</td>\n",
              "      <td>False</td>\n",
              "    </tr>\n",
              "    <tr>\n",
              "      <th>2</th>\n",
              "      <td>0</td>\n",
              "      <td>0.0</td>\n",
              "      <td>0</td>\n",
              "      <td>0.0</td>\n",
              "      <td>1</td>\n",
              "      <td>0.000000</td>\n",
              "      <td>0.20</td>\n",
              "      <td>0.20</td>\n",
              "      <td>0.0</td>\n",
              "      <td>0.0</td>\n",
              "      <td>Feb</td>\n",
              "      <td>4</td>\n",
              "      <td>1</td>\n",
              "      <td>9</td>\n",
              "      <td>3</td>\n",
              "      <td>Returning_Visitor</td>\n",
              "      <td>False</td>\n",
              "      <td>False</td>\n",
              "    </tr>\n",
              "    <tr>\n",
              "      <th>3</th>\n",
              "      <td>0</td>\n",
              "      <td>0.0</td>\n",
              "      <td>0</td>\n",
              "      <td>0.0</td>\n",
              "      <td>2</td>\n",
              "      <td>2.666667</td>\n",
              "      <td>0.05</td>\n",
              "      <td>0.14</td>\n",
              "      <td>0.0</td>\n",
              "      <td>0.0</td>\n",
              "      <td>Feb</td>\n",
              "      <td>3</td>\n",
              "      <td>2</td>\n",
              "      <td>2</td>\n",
              "      <td>4</td>\n",
              "      <td>Returning_Visitor</td>\n",
              "      <td>False</td>\n",
              "      <td>False</td>\n",
              "    </tr>\n",
              "    <tr>\n",
              "      <th>4</th>\n",
              "      <td>0</td>\n",
              "      <td>0.0</td>\n",
              "      <td>0</td>\n",
              "      <td>0.0</td>\n",
              "      <td>10</td>\n",
              "      <td>627.500000</td>\n",
              "      <td>0.02</td>\n",
              "      <td>0.05</td>\n",
              "      <td>0.0</td>\n",
              "      <td>0.0</td>\n",
              "      <td>Feb</td>\n",
              "      <td>3</td>\n",
              "      <td>3</td>\n",
              "      <td>1</td>\n",
              "      <td>4</td>\n",
              "      <td>Returning_Visitor</td>\n",
              "      <td>True</td>\n",
              "      <td>False</td>\n",
              "    </tr>\n",
              "  </tbody>\n",
              "</table>\n",
              "</div>\n",
              "      <button class=\"colab-df-convert\" onclick=\"convertToInteractive('df-4b4463de-9a15-4e65-8186-a38e2412ee82')\"\n",
              "              title=\"Convert this dataframe to an interactive table.\"\n",
              "              style=\"display:none;\">\n",
              "        \n",
              "  <svg xmlns=\"http://www.w3.org/2000/svg\" height=\"24px\"viewBox=\"0 0 24 24\"\n",
              "       width=\"24px\">\n",
              "    <path d=\"M0 0h24v24H0V0z\" fill=\"none\"/>\n",
              "    <path d=\"M18.56 5.44l.94 2.06.94-2.06 2.06-.94-2.06-.94-.94-2.06-.94 2.06-2.06.94zm-11 1L8.5 8.5l.94-2.06 2.06-.94-2.06-.94L8.5 2.5l-.94 2.06-2.06.94zm10 10l.94 2.06.94-2.06 2.06-.94-2.06-.94-.94-2.06-.94 2.06-2.06.94z\"/><path d=\"M17.41 7.96l-1.37-1.37c-.4-.4-.92-.59-1.43-.59-.52 0-1.04.2-1.43.59L10.3 9.45l-7.72 7.72c-.78.78-.78 2.05 0 2.83L4 21.41c.39.39.9.59 1.41.59.51 0 1.02-.2 1.41-.59l7.78-7.78 2.81-2.81c.8-.78.8-2.07 0-2.86zM5.41 20L4 18.59l7.72-7.72 1.47 1.35L5.41 20z\"/>\n",
              "  </svg>\n",
              "      </button>\n",
              "      \n",
              "  <style>\n",
              "    .colab-df-container {\n",
              "      display:flex;\n",
              "      flex-wrap:wrap;\n",
              "      gap: 12px;\n",
              "    }\n",
              "\n",
              "    .colab-df-convert {\n",
              "      background-color: #E8F0FE;\n",
              "      border: none;\n",
              "      border-radius: 50%;\n",
              "      cursor: pointer;\n",
              "      display: none;\n",
              "      fill: #1967D2;\n",
              "      height: 32px;\n",
              "      padding: 0 0 0 0;\n",
              "      width: 32px;\n",
              "    }\n",
              "\n",
              "    .colab-df-convert:hover {\n",
              "      background-color: #E2EBFA;\n",
              "      box-shadow: 0px 1px 2px rgba(60, 64, 67, 0.3), 0px 1px 3px 1px rgba(60, 64, 67, 0.15);\n",
              "      fill: #174EA6;\n",
              "    }\n",
              "\n",
              "    [theme=dark] .colab-df-convert {\n",
              "      background-color: #3B4455;\n",
              "      fill: #D2E3FC;\n",
              "    }\n",
              "\n",
              "    [theme=dark] .colab-df-convert:hover {\n",
              "      background-color: #434B5C;\n",
              "      box-shadow: 0px 1px 3px 1px rgba(0, 0, 0, 0.15);\n",
              "      filter: drop-shadow(0px 1px 2px rgba(0, 0, 0, 0.3));\n",
              "      fill: #FFFFFF;\n",
              "    }\n",
              "  </style>\n",
              "\n",
              "      <script>\n",
              "        const buttonEl =\n",
              "          document.querySelector('#df-4b4463de-9a15-4e65-8186-a38e2412ee82 button.colab-df-convert');\n",
              "        buttonEl.style.display =\n",
              "          google.colab.kernel.accessAllowed ? 'block' : 'none';\n",
              "\n",
              "        async function convertToInteractive(key) {\n",
              "          const element = document.querySelector('#df-4b4463de-9a15-4e65-8186-a38e2412ee82');\n",
              "          const dataTable =\n",
              "            await google.colab.kernel.invokeFunction('convertToInteractive',\n",
              "                                                     [key], {});\n",
              "          if (!dataTable) return;\n",
              "\n",
              "          const docLinkHtml = 'Like what you see? Visit the ' +\n",
              "            '<a target=\"_blank\" href=https://colab.research.google.com/notebooks/data_table.ipynb>data table notebook</a>'\n",
              "            + ' to learn more about interactive tables.';\n",
              "          element.innerHTML = '';\n",
              "          dataTable['output_type'] = 'display_data';\n",
              "          await google.colab.output.renderOutput(dataTable, element);\n",
              "          const docLink = document.createElement('div');\n",
              "          docLink.innerHTML = docLinkHtml;\n",
              "          element.appendChild(docLink);\n",
              "        }\n",
              "      </script>\n",
              "    </div>\n",
              "  </div>\n",
              "  "
            ]
          },
          "metadata": {},
          "execution_count": 4
        }
      ],
      "source": [
        "# Reading shopping data\n",
        "X_train = pd.read_csv(\"https://archive.ics.uci.edu/ml/machine-learning-databases/00468/online_shoppers_intention.csv\")\n",
        "df = X_train.copy()\n",
        "df.head()"
      ]
    },
    {
      "cell_type": "markdown",
      "metadata": {
        "id": "rZIhkxSqt6Yw"
      },
      "source": [
        "## Producing dummy variables for categorical data and cleaning data"
      ]
    },
    {
      "cell_type": "markdown",
      "metadata": {
        "id": "XVGmdNWs5Xij"
      },
      "source": [
        "The categorical data of 'VisitorType' is represented as numerical data via dummy variables. Dummy variables encode either one of the states as 0 and other value of the categorical feature variable as 1. Further, unnecessary variables of 'Revenue' and 'Returning_Visitor' and also the data is cleaned "
      ]
    },
    {
      "cell_type": "code",
      "execution_count": null,
      "metadata": {
        "id": "a44Ge_KUt6Yx"
      },
      "outputs": [],
      "source": [
        "dummiesdf = pd.get_dummies(df['VisitorType'])\n",
        "df.drop('VisitorType', inplace = True, axis = 1)\n",
        "df['New_Visitor'] = dummiesdf['New_Visitor']\n",
        "df['Other'] = dummiesdf['Other']\n",
        "df['Returning_Visitor'] = dummiesdf['Returning_Visitor']"
      ]
    },
    {
      "cell_type": "code",
      "execution_count": null,
      "metadata": {
        "id": "D2kv3m6Kt6Yz"
      },
      "outputs": [],
      "source": [
        "dfmonth = pd.get_dummies(df['Month']) \n",
        "df.drop('Month', inplace = True, axis = 1)\n",
        "dfwithdummies = pd.concat([df, dfmonth], axis = 1, sort = False)"
      ]
    },
    {
      "cell_type": "code",
      "execution_count": null,
      "metadata": {
        "id": "Gk5oS_SUt6Y1"
      },
      "outputs": [],
      "source": [
        "dfwithdummies['Class'] = df['Revenue'].astype(int)\n",
        "dfwithdummies.drop('Revenue', axis = 1, inplace = True)\n",
        "dfwithdummies['Weekend'] = df['Weekend'].astype(int)\n",
        "dfwithdummies.drop('Returning_Visitor', axis = 1, inplace = True)\n",
        "dfcleaned = dfwithdummies.copy()"
      ]
    },
    {
      "cell_type": "code",
      "execution_count": null,
      "metadata": {
        "id": "MTUhl2P_t6Y4"
      },
      "outputs": [],
      "source": [
        "X = dfcleaned.drop('Class', axis = 1)\n",
        "Y = dfcleaned['Class'].copy()"
      ]
    },
    {
      "cell_type": "code",
      "execution_count": null,
      "metadata": {
        "colab": {
          "base_uri": "https://localhost:8080/",
          "height": 299
        },
        "id": "84dKtG-h-Li3",
        "outputId": "a5a403f8-cba2-4e8a-9635-0b649e0338e8"
      },
      "outputs": [
        {
          "output_type": "execute_result",
          "data": {
            "text/plain": [
              "   Administrative  Administrative_Duration  Informational  \\\n",
              "0               0                      0.0              0   \n",
              "1               0                      0.0              0   \n",
              "2               0                      0.0              0   \n",
              "3               0                      0.0              0   \n",
              "4               0                      0.0              0   \n",
              "\n",
              "   Informational_Duration  ProductRelated  ProductRelated_Duration  \\\n",
              "0                     0.0               1                 0.000000   \n",
              "1                     0.0               2                64.000000   \n",
              "2                     0.0               1                 0.000000   \n",
              "3                     0.0               2                 2.666667   \n",
              "4                     0.0              10               627.500000   \n",
              "\n",
              "   BounceRates  ExitRates  PageValues  SpecialDay  ...  Aug  Dec  Feb  Jul  \\\n",
              "0         0.20       0.20         0.0         0.0  ...    0    0    1    0   \n",
              "1         0.00       0.10         0.0         0.0  ...    0    0    1    0   \n",
              "2         0.20       0.20         0.0         0.0  ...    0    0    1    0   \n",
              "3         0.05       0.14         0.0         0.0  ...    0    0    1    0   \n",
              "4         0.02       0.05         0.0         0.0  ...    0    0    1    0   \n",
              "\n",
              "   June  Mar  May  Nov  Oct  Sep  \n",
              "0     0    0    0    0    0    0  \n",
              "1     0    0    0    0    0    0  \n",
              "2     0    0    0    0    0    0  \n",
              "3     0    0    0    0    0    0  \n",
              "4     0    0    0    0    0    0  \n",
              "\n",
              "[5 rows x 27 columns]"
            ],
            "text/html": [
              "\n",
              "  <div id=\"df-e8296228-9a1d-4842-b324-1133ac97e39c\">\n",
              "    <div class=\"colab-df-container\">\n",
              "      <div>\n",
              "<style scoped>\n",
              "    .dataframe tbody tr th:only-of-type {\n",
              "        vertical-align: middle;\n",
              "    }\n",
              "\n",
              "    .dataframe tbody tr th {\n",
              "        vertical-align: top;\n",
              "    }\n",
              "\n",
              "    .dataframe thead th {\n",
              "        text-align: right;\n",
              "    }\n",
              "</style>\n",
              "<table border=\"1\" class=\"dataframe\">\n",
              "  <thead>\n",
              "    <tr style=\"text-align: right;\">\n",
              "      <th></th>\n",
              "      <th>Administrative</th>\n",
              "      <th>Administrative_Duration</th>\n",
              "      <th>Informational</th>\n",
              "      <th>Informational_Duration</th>\n",
              "      <th>ProductRelated</th>\n",
              "      <th>ProductRelated_Duration</th>\n",
              "      <th>BounceRates</th>\n",
              "      <th>ExitRates</th>\n",
              "      <th>PageValues</th>\n",
              "      <th>SpecialDay</th>\n",
              "      <th>...</th>\n",
              "      <th>Aug</th>\n",
              "      <th>Dec</th>\n",
              "      <th>Feb</th>\n",
              "      <th>Jul</th>\n",
              "      <th>June</th>\n",
              "      <th>Mar</th>\n",
              "      <th>May</th>\n",
              "      <th>Nov</th>\n",
              "      <th>Oct</th>\n",
              "      <th>Sep</th>\n",
              "    </tr>\n",
              "  </thead>\n",
              "  <tbody>\n",
              "    <tr>\n",
              "      <th>0</th>\n",
              "      <td>0</td>\n",
              "      <td>0.0</td>\n",
              "      <td>0</td>\n",
              "      <td>0.0</td>\n",
              "      <td>1</td>\n",
              "      <td>0.000000</td>\n",
              "      <td>0.20</td>\n",
              "      <td>0.20</td>\n",
              "      <td>0.0</td>\n",
              "      <td>0.0</td>\n",
              "      <td>...</td>\n",
              "      <td>0</td>\n",
              "      <td>0</td>\n",
              "      <td>1</td>\n",
              "      <td>0</td>\n",
              "      <td>0</td>\n",
              "      <td>0</td>\n",
              "      <td>0</td>\n",
              "      <td>0</td>\n",
              "      <td>0</td>\n",
              "      <td>0</td>\n",
              "    </tr>\n",
              "    <tr>\n",
              "      <th>1</th>\n",
              "      <td>0</td>\n",
              "      <td>0.0</td>\n",
              "      <td>0</td>\n",
              "      <td>0.0</td>\n",
              "      <td>2</td>\n",
              "      <td>64.000000</td>\n",
              "      <td>0.00</td>\n",
              "      <td>0.10</td>\n",
              "      <td>0.0</td>\n",
              "      <td>0.0</td>\n",
              "      <td>...</td>\n",
              "      <td>0</td>\n",
              "      <td>0</td>\n",
              "      <td>1</td>\n",
              "      <td>0</td>\n",
              "      <td>0</td>\n",
              "      <td>0</td>\n",
              "      <td>0</td>\n",
              "      <td>0</td>\n",
              "      <td>0</td>\n",
              "      <td>0</td>\n",
              "    </tr>\n",
              "    <tr>\n",
              "      <th>2</th>\n",
              "      <td>0</td>\n",
              "      <td>0.0</td>\n",
              "      <td>0</td>\n",
              "      <td>0.0</td>\n",
              "      <td>1</td>\n",
              "      <td>0.000000</td>\n",
              "      <td>0.20</td>\n",
              "      <td>0.20</td>\n",
              "      <td>0.0</td>\n",
              "      <td>0.0</td>\n",
              "      <td>...</td>\n",
              "      <td>0</td>\n",
              "      <td>0</td>\n",
              "      <td>1</td>\n",
              "      <td>0</td>\n",
              "      <td>0</td>\n",
              "      <td>0</td>\n",
              "      <td>0</td>\n",
              "      <td>0</td>\n",
              "      <td>0</td>\n",
              "      <td>0</td>\n",
              "    </tr>\n",
              "    <tr>\n",
              "      <th>3</th>\n",
              "      <td>0</td>\n",
              "      <td>0.0</td>\n",
              "      <td>0</td>\n",
              "      <td>0.0</td>\n",
              "      <td>2</td>\n",
              "      <td>2.666667</td>\n",
              "      <td>0.05</td>\n",
              "      <td>0.14</td>\n",
              "      <td>0.0</td>\n",
              "      <td>0.0</td>\n",
              "      <td>...</td>\n",
              "      <td>0</td>\n",
              "      <td>0</td>\n",
              "      <td>1</td>\n",
              "      <td>0</td>\n",
              "      <td>0</td>\n",
              "      <td>0</td>\n",
              "      <td>0</td>\n",
              "      <td>0</td>\n",
              "      <td>0</td>\n",
              "      <td>0</td>\n",
              "    </tr>\n",
              "    <tr>\n",
              "      <th>4</th>\n",
              "      <td>0</td>\n",
              "      <td>0.0</td>\n",
              "      <td>0</td>\n",
              "      <td>0.0</td>\n",
              "      <td>10</td>\n",
              "      <td>627.500000</td>\n",
              "      <td>0.02</td>\n",
              "      <td>0.05</td>\n",
              "      <td>0.0</td>\n",
              "      <td>0.0</td>\n",
              "      <td>...</td>\n",
              "      <td>0</td>\n",
              "      <td>0</td>\n",
              "      <td>1</td>\n",
              "      <td>0</td>\n",
              "      <td>0</td>\n",
              "      <td>0</td>\n",
              "      <td>0</td>\n",
              "      <td>0</td>\n",
              "      <td>0</td>\n",
              "      <td>0</td>\n",
              "    </tr>\n",
              "  </tbody>\n",
              "</table>\n",
              "<p>5 rows × 27 columns</p>\n",
              "</div>\n",
              "      <button class=\"colab-df-convert\" onclick=\"convertToInteractive('df-e8296228-9a1d-4842-b324-1133ac97e39c')\"\n",
              "              title=\"Convert this dataframe to an interactive table.\"\n",
              "              style=\"display:none;\">\n",
              "        \n",
              "  <svg xmlns=\"http://www.w3.org/2000/svg\" height=\"24px\"viewBox=\"0 0 24 24\"\n",
              "       width=\"24px\">\n",
              "    <path d=\"M0 0h24v24H0V0z\" fill=\"none\"/>\n",
              "    <path d=\"M18.56 5.44l.94 2.06.94-2.06 2.06-.94-2.06-.94-.94-2.06-.94 2.06-2.06.94zm-11 1L8.5 8.5l.94-2.06 2.06-.94-2.06-.94L8.5 2.5l-.94 2.06-2.06.94zm10 10l.94 2.06.94-2.06 2.06-.94-2.06-.94-.94-2.06-.94 2.06-2.06.94z\"/><path d=\"M17.41 7.96l-1.37-1.37c-.4-.4-.92-.59-1.43-.59-.52 0-1.04.2-1.43.59L10.3 9.45l-7.72 7.72c-.78.78-.78 2.05 0 2.83L4 21.41c.39.39.9.59 1.41.59.51 0 1.02-.2 1.41-.59l7.78-7.78 2.81-2.81c.8-.78.8-2.07 0-2.86zM5.41 20L4 18.59l7.72-7.72 1.47 1.35L5.41 20z\"/>\n",
              "  </svg>\n",
              "      </button>\n",
              "      \n",
              "  <style>\n",
              "    .colab-df-container {\n",
              "      display:flex;\n",
              "      flex-wrap:wrap;\n",
              "      gap: 12px;\n",
              "    }\n",
              "\n",
              "    .colab-df-convert {\n",
              "      background-color: #E8F0FE;\n",
              "      border: none;\n",
              "      border-radius: 50%;\n",
              "      cursor: pointer;\n",
              "      display: none;\n",
              "      fill: #1967D2;\n",
              "      height: 32px;\n",
              "      padding: 0 0 0 0;\n",
              "      width: 32px;\n",
              "    }\n",
              "\n",
              "    .colab-df-convert:hover {\n",
              "      background-color: #E2EBFA;\n",
              "      box-shadow: 0px 1px 2px rgba(60, 64, 67, 0.3), 0px 1px 3px 1px rgba(60, 64, 67, 0.15);\n",
              "      fill: #174EA6;\n",
              "    }\n",
              "\n",
              "    [theme=dark] .colab-df-convert {\n",
              "      background-color: #3B4455;\n",
              "      fill: #D2E3FC;\n",
              "    }\n",
              "\n",
              "    [theme=dark] .colab-df-convert:hover {\n",
              "      background-color: #434B5C;\n",
              "      box-shadow: 0px 1px 3px 1px rgba(0, 0, 0, 0.15);\n",
              "      filter: drop-shadow(0px 1px 2px rgba(0, 0, 0, 0.3));\n",
              "      fill: #FFFFFF;\n",
              "    }\n",
              "  </style>\n",
              "\n",
              "      <script>\n",
              "        const buttonEl =\n",
              "          document.querySelector('#df-e8296228-9a1d-4842-b324-1133ac97e39c button.colab-df-convert');\n",
              "        buttonEl.style.display =\n",
              "          google.colab.kernel.accessAllowed ? 'block' : 'none';\n",
              "\n",
              "        async function convertToInteractive(key) {\n",
              "          const element = document.querySelector('#df-e8296228-9a1d-4842-b324-1133ac97e39c');\n",
              "          const dataTable =\n",
              "            await google.colab.kernel.invokeFunction('convertToInteractive',\n",
              "                                                     [key], {});\n",
              "          if (!dataTable) return;\n",
              "\n",
              "          const docLinkHtml = 'Like what you see? Visit the ' +\n",
              "            '<a target=\"_blank\" href=https://colab.research.google.com/notebooks/data_table.ipynb>data table notebook</a>'\n",
              "            + ' to learn more about interactive tables.';\n",
              "          element.innerHTML = '';\n",
              "          dataTable['output_type'] = 'display_data';\n",
              "          await google.colab.output.renderOutput(dataTable, element);\n",
              "          const docLink = document.createElement('div');\n",
              "          docLink.innerHTML = docLinkHtml;\n",
              "          element.appendChild(docLink);\n",
              "        }\n",
              "      </script>\n",
              "    </div>\n",
              "  </div>\n",
              "  "
            ]
          },
          "metadata": {},
          "execution_count": 9
        }
      ],
      "source": [
        "X.head()"
      ]
    },
    {
      "cell_type": "code",
      "execution_count": null,
      "metadata": {
        "colab": {
          "base_uri": "https://localhost:8080/"
        },
        "id": "sSpKcZHv-N7d",
        "outputId": "d5c0f6b0-b58d-4137-bae9-708c5030937f"
      },
      "outputs": [
        {
          "output_type": "stream",
          "name": "stdout",
          "text": [
            "<class 'pandas.core.frame.DataFrame'>\n",
            "RangeIndex: 12330 entries, 0 to 12329\n",
            "Data columns (total 27 columns):\n",
            " #   Column                   Non-Null Count  Dtype  \n",
            "---  ------                   --------------  -----  \n",
            " 0   Administrative           12330 non-null  int64  \n",
            " 1   Administrative_Duration  12330 non-null  float64\n",
            " 2   Informational            12330 non-null  int64  \n",
            " 3   Informational_Duration   12330 non-null  float64\n",
            " 4   ProductRelated           12330 non-null  int64  \n",
            " 5   ProductRelated_Duration  12330 non-null  float64\n",
            " 6   BounceRates              12330 non-null  float64\n",
            " 7   ExitRates                12330 non-null  float64\n",
            " 8   PageValues               12330 non-null  float64\n",
            " 9   SpecialDay               12330 non-null  float64\n",
            " 10  OperatingSystems         12330 non-null  int64  \n",
            " 11  Browser                  12330 non-null  int64  \n",
            " 12  Region                   12330 non-null  int64  \n",
            " 13  TrafficType              12330 non-null  int64  \n",
            " 14  Weekend                  12330 non-null  int64  \n",
            " 15  New_Visitor              12330 non-null  uint8  \n",
            " 16  Other                    12330 non-null  uint8  \n",
            " 17  Aug                      12330 non-null  uint8  \n",
            " 18  Dec                      12330 non-null  uint8  \n",
            " 19  Feb                      12330 non-null  uint8  \n",
            " 20  Jul                      12330 non-null  uint8  \n",
            " 21  June                     12330 non-null  uint8  \n",
            " 22  Mar                      12330 non-null  uint8  \n",
            " 23  May                      12330 non-null  uint8  \n",
            " 24  Nov                      12330 non-null  uint8  \n",
            " 25  Oct                      12330 non-null  uint8  \n",
            " 26  Sep                      12330 non-null  uint8  \n",
            "dtypes: float64(7), int64(8), uint8(12)\n",
            "memory usage: 1.6 MB\n"
          ]
        }
      ],
      "source": [
        "X.info()"
      ]
    },
    {
      "cell_type": "markdown",
      "metadata": {
        "id": "d3DdhJ9ot6Y6"
      },
      "source": [
        "## Checking for Collinearity "
      ]
    },
    {
      "cell_type": "markdown",
      "metadata": {
        "id": "zcG0exZV5Xim"
      },
      "source": [
        "Checking for collinearity between different features. It is done in order to find a relation between features and if there is a strong relationship between 2 features, i.e., if 2 features are collinear, then one of the two could be skipped while processing and analyzing data. This step, thus, helps to reduce the dimensions of the dataset, if any."
      ]
    },
    {
      "cell_type": "code",
      "execution_count": null,
      "metadata": {
        "id": "KOGbT1i3t6Y7"
      },
      "outputs": [],
      "source": [
        "cor = X.corr()"
      ]
    },
    {
      "cell_type": "code",
      "execution_count": null,
      "metadata": {
        "colab": {
          "base_uri": "https://localhost:8080/",
          "height": 401
        },
        "id": "1bJBsVpJt6Y9",
        "outputId": "60e63469-a9f2-4e8e-b737-2d267476a53d"
      },
      "outputs": [
        {
          "output_type": "execute_result",
          "data": {
            "text/plain": [
              "<matplotlib.axes._subplots.AxesSubplot at 0x7fe0487910d0>"
            ]
          },
          "metadata": {},
          "execution_count": 12
        },
        {
          "output_type": "display_data",
          "data": {
            "text/plain": [
              "<Figure size 432x288 with 2 Axes>"
            ],
            "image/png": "[encoded data removed]"
          },
          "metadata": {
            "needs_background": "light"
          }
        }
      ],
      "source": [
        "sns.heatmap(cor, xticklabels=cor.columns,yticklabels=cor.columns)"
      ]
    },
    {
      "cell_type": "code",
      "execution_count": null,
      "metadata": {
        "id": "Wvl1i5wU5Xin"
      },
      "outputs": [],
      "source": [
        "#dfcleaned[dfcleaned['New_Visitor'] == 1]['Administrative'].value_counts()"
      ]
    },
    {
      "cell_type": "code",
      "execution_count": null,
      "metadata": {
        "id": "xAx9ZMWQt6Y_"
      },
      "outputs": [],
      "source": [
        "\n",
        "def AvgMinutes(Count, Duration):\n",
        "    if Duration == 0:\n",
        "        output = 0\n",
        "    elif Duration != 0:\n",
        "        output = float(Duration)/float(Count)\n",
        "    return output\n",
        "    \n",
        "Columns = [['Administrative', 'Administrative_Duration'], ['Informational', 'Informational_Duration'], ['ProductRelated', 'ProductRelated_Duration']]\n",
        "    \n",
        "    \n",
        "X['AvgAdministrative'] = X.apply(lambda x: AvgMinutes(Count = x['Administrative'], Duration = x['Administrative_Duration']), axis = 1)\n",
        "X['AvgInformational'] = X.apply(lambda x: AvgMinutes(Count = x['Informational'], Duration = x['Informational_Duration']), axis = 1)\n",
        "X['AvgProductRelated'] = X.apply(lambda x: AvgMinutes(Count = x['ProductRelated'], Duration = x['ProductRelated_Duration']), axis = 1)\n",
        "X.drop(['Administrative', 'Administrative_Duration','Informational', 'Informational_Duration','ProductRelated', 'ProductRelated_Duration'], axis = 1, inplace = True)"
      ]
    },
    {
      "cell_type": "code",
      "execution_count": null,
      "metadata": {
        "colab": {
          "base_uri": "https://localhost:8080/",
          "height": 371
        },
        "id": "uiKJHQNut6ZB",
        "outputId": "bd0fc3b0-f452-42d5-c329-25c89fa6bcba",
        "scrolled": true
      },
      "outputs": [
        {
          "output_type": "execute_result",
          "data": {
            "text/plain": [
              "<matplotlib.axes._subplots.AxesSubplot at 0x7fe0485ce750>"
            ]
          },
          "metadata": {},
          "execution_count": 15
        },
        {
          "output_type": "display_data",
          "data": {
            "text/plain": [
              "<Figure size 432x288 with 2 Axes>"
            ],
            "image/png": "[encoded data removed]"
          },
          "metadata": {
            "needs_background": "light"
          }
        }
      ],
      "source": [
        "cor = X.corr()\n",
        "sns.heatmap(cor, xticklabels=cor.columns,yticklabels=cor.columns)"
      ]
    },
    {
      "cell_type": "markdown",
      "metadata": {
        "id": "qwA6u9ogt6ZD"
      },
      "source": [
        "## Quick overview of features"
      ]
    },
    {
      "cell_type": "code",
      "execution_count": null,
      "metadata": {
        "colab": {
          "base_uri": "https://localhost:8080/",
          "height": 1000
        },
        "id": "AKcdXFumt6ZE",
        "outputId": "6f2aeadd-ef1a-43d9-f29c-1e075caba52c"
      },
      "outputs": [
        {
          "output_type": "stream",
          "name": "stderr",
          "text": [
            "/usr/local/lib/python3.7/dist-packages/pandas/plotting/_matplotlib/tools.py:218: RuntimeWarning: More than 20 figures have been opened. Figures created through the pyplot interface (`matplotlib.pyplot.figure`) are retained until explicitly closed and may consume too much memory. (To control this warning, see the rcParam `figure.max_open_warning`).\n",
            "  fig = plt.figure(**fig_kw)\n"
          ]
        },
        {
          "output_type": "display_data",
          "data": {
            "text/plain": [
              "<Figure size 432x288 with 0 Axes>"
            ]
          },
          "metadata": {}
        },
        {
          "output_type": "display_data",
          "data": {
            "text/plain": [
              "<Figure size 432x288 with 1 Axes>"
            ],
            "image/png": "[encoded data removed]"
          },
          "metadata": {
            "needs_background": "light"
          }
        },
        {
          "output_type": "display_data",
          "data": {
            "text/plain": [
              "<Figure size 432x288 with 1 Axes>"
            ],
            "image/png": "[encoded data removed]"
          },
          "metadata": {
            "needs_background": "light"
          }
        },
        {
          "output_type": "display_data",
          "data": {
            "text/plain": [
              "<Figure size 432x288 with 1 Axes>"
            ],
            "image/png": "[encoded data removed]"
          },
          "metadata": {
            "needs_background": "light"
          }
        },
        {
          "output_type": "display_data",
          "data": {
            "text/plain": [
              "<Figure size 432x288 with 1 Axes>"
            ],
            "image/png": "[encoded data removed]"
          },
          "metadata": {
            "needs_background": "light"
          }
        },
        {
          "output_type": "display_data",
          "data": {
            "text/plain": [
              "<Figure size 432x288 with 1 Axes>"
            ],
            "image/png": "[encoded data removed]"
          },
          "metadata": {
            "needs_background": "light"
          }
        },
        {
          "output_type": "display_data",
          "data": {
            "text/plain": [
              "<Figure size 432x288 with 1 Axes>"
            ],
            "image/png": "[encoded data removed]"
          },
          "metadata": {
            "needs_background": "light"
          }
        },
        {
          "output_type": "display_data",
          "data": {
            "text/plain": [
              "<Figure size 432x288 with 1 Axes>"
            ],
            "image/png": "[encoded data removed]"
          },
          "metadata": {
            "needs_background": "light"
          }
        },
        {
          "output_type": "display_data",
          "data": {
            "text/plain": [
              "<Figure size 432x288 with 1 Axes>"
            ],
            "image/png": "[encoded data removed]"
          },
          "metadata": {
            "needs_background": "light"
          }
        },
        {
          "output_type": "display_data",
          "data": {
            "text/plain": [
              "<Figure size 432x288 with 1 Axes>"
            ],
            "image/png": "[encoded data removed]"
          },
          "metadata": {
            "needs_background": "light"
          }
        },
        {
          "output_type": "display_data",
          "data": {
            "text/plain": [
              "<Figure size 432x288 with 1 Axes>"
            ],
            "image/png": "[encoded data removed]"
          },
          "metadata": {
            "needs_background": "light"
          }
        },
        {
          "output_type": "display_data",
          "data": {
            "text/plain": [
              "<Figure size 432x288 with 1 Axes>"
            ],
            "image/png": "[encoded data removed]"
          },
          "metadata": {
            "needs_background": "light"
          }
        },
        {
          "output_type": "display_data",
          "data": {
            "text/plain": [
              "<Figure size 432x288 with 1 Axes>"
            ],
            "image/png": "[encoded data removed]"
          },
          "metadata": {
            "needs_background": "light"
          }
        },
        {
          "output_type": "display_data",
          "data": {
            "text/plain": [
              "<Figure size 432x288 with 1 Axes>"
            ],
            "image/png": "[encoded data removed]"
          },
          "metadata": {
            "needs_background": "light"
          }
        },
        {
          "output_type": "display_data",
          "data": {
            "text/plain": [
              "<Figure size 432x288 with 1 Axes>"
            ],
            "image/png": "[encoded data removed]"
          },
          "metadata": {
            "needs_background": "light"
          }
        },
        {
          "output_type": "display_data",
          "data": {
            "text/plain": [
              "<Figure size 432x288 with 1 Axes>"
            ],
            "image/png": "[encoded data removed]"
          },
          "metadata": {
            "needs_background": "light"
          }
        },
        {
          "output_type": "display_data",
          "data": {
            "text/plain": [
              "<Figure size 432x288 with 1 Axes>"
            ],
            "image/png": "[encoded data removed]"
          },
          "metadata": {
            "needs_background": "light"
          }
        },
        {
          "output_type": "display_data",
          "data": {
            "text/plain": [
              "<Figure size 432x288 with 1 Axes>"
            ],
            "image/png": "[encoded data removed]"
          },
          "metadata": {
            "needs_background": "light"
          }
        },
        {
          "output_type": "display_data",
          "data": {
            "text/plain": [
              "<Figure size 432x288 with 1 Axes>"
            ],
            "image/png": "[encoded data removed]"
          },
          "metadata": {
            "needs_background": "light"
          }
        },
        {
          "output_type": "display_data",
          "data": {
            "text/plain": [
              "<Figure size 432x288 with 1 Axes>"
            ],
            "image/png": "[encoded data removed]"
          },
          "metadata": {
            "needs_background": "light"
          }
        },
        {
          "output_type": "display_data",
          "data": {
            "text/plain": [
              "<Figure size 432x288 with 1 Axes>"
            ],
            "image/png": "[encoded data removed]"
          },
          "metadata": {
            "needs_background": "light"
          }
        },
        {
          "output_type": "display_data",
          "data": {
            "text/plain": [
              "<Figure size 432x288 with 1 Axes>"
            ],
            "image/png": "[encoded data removed]"
          },
          "metadata": {
            "needs_background": "light"
          }
        },
        {
          "output_type": "display_data",
          "data": {
            "text/plain": [
              "<Figure size 432x288 with 1 Axes>"
            ],
            "image/png": "[encoded data removed]"
          },
          "metadata": {
            "needs_background": "light"
          }
        },
        {
          "output_type": "display_data",
          "data": {
            "text/plain": [
              "<Figure size 432x288 with 1 Axes>"
            ],
            "image/png": "[encoded data removed]"
          },
          "metadata": {
            "needs_background": "light"
          }
        },
        {
          "output_type": "display_data",
          "data": {
            "text/plain": [
              "<Figure size 432x288 with 1 Axes>"
            ],
            "image/png": "[encoded data removed]"
          },
          "metadata": {
            "needs_background": "light"
          }
        }
      ],
      "source": [
        "# Histogram of all features\n",
        "for idx,column in enumerate(X.columns): \n",
        "    plt.figure(idx)\n",
        "    X.hist(column=column,grid=False)"
      ]
    },
    {
      "cell_type": "code",
      "execution_count": null,
      "metadata": {
        "colab": {
          "base_uri": "https://localhost:8080/"
        },
        "id": "N1oyGFQat6ZG",
        "outputId": "7599185a-5fcb-4f5c-96b8-376024e5c785"
      },
      "outputs": [
        {
          "output_type": "stream",
          "name": "stdout",
          "text": [
            "Feature: BounceRates\n",
            "# of N/A: 0\n",
            "Feature: ExitRates\n",
            "# of N/A: 0\n",
            "Feature: PageValues\n",
            "# of N/A: 0\n",
            "Feature: SpecialDay\n",
            "# of N/A: 0\n",
            "Feature: OperatingSystems\n",
            "# of N/A: 0\n",
            "Feature: Browser\n",
            "# of N/A: 0\n",
            "Feature: Region\n",
            "# of N/A: 0\n",
            "Feature: TrafficType\n",
            "# of N/A: 0\n",
            "Feature: Weekend\n",
            "# of N/A: 0\n",
            "Feature: New_Visitor\n",
            "# of N/A: 0\n",
            "Feature: Other\n",
            "# of N/A: 0\n",
            "Feature: Aug\n",
            "# of N/A: 0\n",
            "Feature: Dec\n",
            "# of N/A: 0\n",
            "Feature: Feb\n",
            "# of N/A: 0\n",
            "Feature: Jul\n",
            "# of N/A: 0\n",
            "Feature: June\n",
            "# of N/A: 0\n",
            "Feature: Mar\n",
            "# of N/A: 0\n",
            "Feature: May\n",
            "# of N/A: 0\n",
            "Feature: Nov\n",
            "# of N/A: 0\n",
            "Feature: Oct\n",
            "# of N/A: 0\n",
            "Feature: Sep\n",
            "# of N/A: 0\n",
            "Feature: AvgAdministrative\n",
            "# of N/A: 0\n",
            "Feature: AvgInformational\n",
            "# of N/A: 0\n",
            "Feature: AvgProductRelated\n",
            "# of N/A: 0\n"
          ]
        }
      ],
      "source": [
        "# Checking for NA values\n",
        "for i in X.columns:\n",
        "    print('Feature:',i)\n",
        "    print('# of N/A:',X[i].isna().sum())"
      ]
    },
    {
      "cell_type": "code",
      "execution_count": null,
      "metadata": {
        "colab": {
          "base_uri": "https://localhost:8080/"
        },
        "id": "9EA_Enapt6ZJ",
        "outputId": "c05f40bc-8695-4585-d5b3-efabd777b4a3"
      },
      "outputs": [
        {
          "output_type": "stream",
          "name": "stdout",
          "text": [
            "####################\n",
            "COLUMN TITLE: Administrative\n",
            "# UNIQUE VALUES: 27\n",
            "UNIQUE VALUES: [ 0  1  2  4 12  3 10  6  5  9  8 16 13 11  7 18 14 17 19 15 24 22 21 20\n",
            " 23 27 26]\n",
            "####################\n",
            "\n",
            "####################\n",
            "COLUMN TITLE: Administrative_Duration\n",
            "# UNIQUE VALUES: 3335\n",
            "UNIQUE VALUES: [  0.         53.         64.6       ... 167.9107143 305.125\n",
            " 150.3571429]\n",
            "####################\n",
            "\n",
            "####################\n",
            "COLUMN TITLE: Informational\n",
            "# UNIQUE VALUES: 17\n",
            "UNIQUE VALUES: [ 0  1  2  4 16  5  3 14  6 12  7  9 10  8 11 24 13]\n",
            "####################\n",
            "\n",
            "####################\n",
            "COLUMN TITLE: Informational_Duration\n",
            "# UNIQUE VALUES: 1258\n",
            "UNIQUE VALUES: [  0.   120.    16.   ... 547.75 368.25 211.25]\n",
            "####################\n",
            "\n",
            "####################\n",
            "COLUMN TITLE: ProductRelated\n",
            "# UNIQUE VALUES: 311\n",
            "UNIQUE VALUES: [  1   2  10  19   0   3  16   7   6  23  13  20   8   5  32   4  45  14\n",
            "  52   9  46  15  22  11  12  36  42  27  90  18  38  17 128  25  30  21\n",
            "  51  26  28  31  24  50  96  49  68  98  67  55  35  37  29  34  71  63\n",
            "  87  40  33  54  64  75  39 111  81  61  47  44  88 149  41  79  66  43\n",
            " 258  80  62  83 173  48  58  57  56  69  82  59 109 287  53  84  78 137\n",
            " 113  89  65  60 104 129  77  74  93  76  72 194 140 110 132 115  73 328\n",
            " 160  86 150  95 130 151 117 124 127 125 116 105  92 157 154 220 187 112\n",
            " 131 159  94 204 142 206 102 313 145  85  97 198 181 126 106 101 108 119\n",
            "  70 122  91 276 100 291 114 172 217 141 133 156 136 180 135 195  99 362\n",
            " 179 118 175 148 440 103 178 184 705 134 176 146 189 120 193 222 121 107\n",
            " 305 199 439 223 230 280 377 310 158 486 153 139 182 221 229 216 170 202\n",
            " 346 274 240 162 123 211 227 168 161 429 686 167 518 256 255 358 213 191\n",
            " 282 155 138 246 237 271 171 414 219 262 409 243 241 197 449 143 188 391\n",
            " 238 152 165 293 174 584 164 311 340 250 200 385 292 232 251 517 225 169\n",
            " 309 235 501 224 275 318 144 397 343 245 186 337 351 166 349 423 359 163\n",
            " 147 264 312 226 324 266 260 338 272 534 470 207 218 326 190 304 205 233\n",
            " 401 177 330 286 247 357 315 231 339 283 374 248 279 281 234 261 290 336\n",
            " 378 254 183 210 192]\n",
            "####################\n",
            "\n",
            "####################\n",
            "COLUMN TITLE: ProductRelated_Duration\n",
            "# UNIQUE VALUES: 9551\n",
            "UNIQUE VALUES: [  0.          64.           2.66666667 ... 465.75       184.25\n",
            " 346.        ]\n",
            "####################\n",
            "\n",
            "####################\n",
            "COLUMN TITLE: BounceRates\n",
            "# UNIQUE VALUES: 1872\n",
            "UNIQUE VALUES: [0.2        0.         0.05       ... 0.00382775 0.00086956 0.01114899]\n",
            "####################\n",
            "\n",
            "####################\n",
            "COLUMN TITLE: ExitRates\n",
            "# UNIQUE VALUES: 4777\n",
            "UNIQUE VALUES: [0.2        0.1        0.14       ... 0.01276133 0.01395349 0.02903061]\n",
            "####################\n",
            "\n",
            "####################\n",
            "COLUMN TITLE: PageValues\n",
            "# UNIQUE VALUES: 2704\n",
            "UNIQUE VALUES: [ 0.         54.17976426 19.44707913 ... 78.81172527  3.68540082\n",
            " 12.24171745]\n",
            "####################\n",
            "\n",
            "####################\n",
            "COLUMN TITLE: SpecialDay\n",
            "# UNIQUE VALUES: 6\n",
            "UNIQUE VALUES: [0.  0.4 0.8 1.  0.2 0.6]\n",
            "####################\n",
            "\n",
            "####################\n",
            "COLUMN TITLE: Month\n",
            "# UNIQUE VALUES: 10\n",
            "UNIQUE VALUES: ['Feb' 'Mar' 'May' 'Oct' 'June' 'Jul' 'Aug' 'Nov' 'Sep' 'Dec']\n",
            "####################\n",
            "\n",
            "####################\n",
            "COLUMN TITLE: OperatingSystems\n",
            "# UNIQUE VALUES: 8\n",
            "UNIQUE VALUES: [1 2 4 3 7 6 8 5]\n",
            "####################\n",
            "\n",
            "####################\n",
            "COLUMN TITLE: Browser\n",
            "# UNIQUE VALUES: 13\n",
            "UNIQUE VALUES: [ 1  2  3  4  5  6  7 10  8  9 12 13 11]\n",
            "####################\n",
            "\n",
            "####################\n",
            "COLUMN TITLE: Region\n",
            "# UNIQUE VALUES: 9\n",
            "UNIQUE VALUES: [1 9 2 3 4 5 6 7 8]\n",
            "####################\n",
            "\n",
            "####################\n",
            "COLUMN TITLE: TrafficType\n",
            "# UNIQUE VALUES: 20\n",
            "UNIQUE VALUES: [ 1  2  3  4  5  6  7  8  9 10 11 12 13 14 15 18 19 16 17 20]\n",
            "####################\n",
            "\n",
            "####################\n",
            "COLUMN TITLE: VisitorType\n",
            "# UNIQUE VALUES: 3\n",
            "UNIQUE VALUES: ['Returning_Visitor' 'New_Visitor' 'Other']\n",
            "####################\n",
            "\n",
            "####################\n",
            "COLUMN TITLE: Weekend\n",
            "# UNIQUE VALUES: 2\n",
            "UNIQUE VALUES: [False  True]\n",
            "####################\n",
            "\n",
            "####################\n",
            "COLUMN TITLE: Revenue\n",
            "# UNIQUE VALUES: 2\n",
            "UNIQUE VALUES: [False  True]\n",
            "####################\n",
            "\n"
          ]
        }
      ],
      "source": [
        "for i in X_train.columns:\n",
        "    print('####################')\n",
        "    print('COLUMN TITLE:',i)\n",
        "    print('# UNIQUE VALUES:',len(X_train[i].unique()))\n",
        "    print('UNIQUE VALUES:',X_train[i].unique())\n",
        "    print('####################')\n",
        "    print()"
      ]
    },
    {
      "cell_type": "code",
      "execution_count": null,
      "metadata": {
        "colab": {
          "base_uri": "https://localhost:8080/",
          "height": 1000
        },
        "id": "q-3coRLzt6ZN",
        "outputId": "f9515151-0513-49f6-926f-f2e870b46453"
      },
      "outputs": [
        {
          "output_type": "stream",
          "name": "stderr",
          "text": [
            "/usr/local/lib/python3.7/dist-packages/pandas/plotting/_matplotlib/tools.py:218: RuntimeWarning: More than 20 figures have been opened. Figures created through the pyplot interface (`matplotlib.pyplot.figure`) are retained until explicitly closed and may consume too much memory. (To control this warning, see the rcParam `figure.max_open_warning`).\n",
            "  fig = plt.figure(**fig_kw)\n"
          ]
        },
        {
          "output_type": "display_data",
          "data": {
            "text/plain": [
              "<Figure size 432x288 with 0 Axes>"
            ]
          },
          "metadata": {}
        },
        {
          "output_type": "display_data",
          "data": {
            "text/plain": [
              "<Figure size 432x288 with 1 Axes>"
            ],
            "image/png": "[encoded data removed]"
          },
          "metadata": {
            "needs_background": "light"
          }
        },
        {
          "output_type": "display_data",
          "data": {
            "text/plain": [
              "<Figure size 432x288 with 1 Axes>"
            ],
            "image/png": "[encoded data removed]"
          },
          "metadata": {
            "needs_background": "light"
          }
        },
        {
          "output_type": "display_data",
          "data": {
            "text/plain": [
              "<Figure size 432x288 with 1 Axes>"
            ],
            "image/png": "[encoded data removed]"
          },
          "metadata": {
            "needs_background": "light"
          }
        },
        {
          "output_type": "display_data",
          "data": {
            "text/plain": [
              "<Figure size 432x288 with 1 Axes>"
            ],
            "image/png": "[encoded data removed]"
          },
          "metadata": {
            "needs_background": "light"
          }
        },
        {
          "output_type": "display_data",
          "data": {
            "text/plain": [
              "<Figure size 432x288 with 1 Axes>"
            ],
            "image/png": "[encoded data removed]"
          },
          "metadata": {
            "needs_background": "light"
          }
        },
        {
          "output_type": "display_data",
          "data": {
            "text/plain": [
              "<Figure size 432x288 with 1 Axes>"
            ],
            "image/png": "[encoded data removed]"
          },
          "metadata": {
            "needs_background": "light"
          }
        },
        {
          "output_type": "display_data",
          "data": {
            "text/plain": [
              "<Figure size 432x288 with 1 Axes>"
            ],
            "image/png": "[encoded data removed]"
          },
          "metadata": {
            "needs_background": "light"
          }
        },
        {
          "output_type": "display_data",
          "data": {
            "text/plain": [
              "<Figure size 432x288 with 1 Axes>"
            ],
            "image/png": "[encoded data removed]"
          },
          "metadata": {
            "needs_background": "light"
          }
        },
        {
          "output_type": "display_data",
          "data": {
            "text/plain": [
              "<Figure size 432x288 with 1 Axes>"
            ],
            "image/png": "[encoded data removed]"
          },
          "metadata": {
            "needs_background": "light"
          }
        },
        {
          "output_type": "display_data",
          "data": {
            "text/plain": [
              "<Figure size 432x288 with 1 Axes>"
            ],
            "image/png": "[encoded data removed]"
          },
          "metadata": {
            "needs_background": "light"
          }
        },
        {
          "output_type": "display_data",
          "data": {
            "text/plain": [
              "<Figure size 432x288 with 1 Axes>"
            ],
            "image/png": "[encoded data removed]"
          },
          "metadata": {
            "needs_background": "light"
          }
        },
        {
          "output_type": "display_data",
          "data": {
            "text/plain": [
              "<Figure size 432x288 with 1 Axes>"
            ],
            "image/png": "[encoded data removed]"
          },
          "metadata": {
            "needs_background": "light"
          }
        },
        {
          "output_type": "display_data",
          "data": {
            "text/plain": [
              "<Figure size 432x288 with 1 Axes>"
            ],
            "image/png": "[encoded data removed]"
          },
          "metadata": {
            "needs_background": "light"
          }
        },
        {
          "output_type": "display_data",
          "data": {
            "text/plain": [
              "<Figure size 432x288 with 1 Axes>"
            ],
            "image/png": "[encoded data removed]"
          },
          "metadata": {
            "needs_background": "light"
          }
        },
        {
          "output_type": "display_data",
          "data": {
            "text/plain": [
              "<Figure size 432x288 with 1 Axes>"
            ],
            "image/png": "[encoded data removed]"
          },
          "metadata": {
            "needs_background": "light"
          }
        },
        {
          "output_type": "display_data",
          "data": {
            "text/plain": [
              "<Figure size 432x288 with 1 Axes>"
            ],
            "image/png": "[encoded data removed]"
          },
          "metadata": {
            "needs_background": "light"
          }
        },
        {
          "output_type": "display_data",
          "data": {
            "text/plain": [
              "<Figure size 432x288 with 1 Axes>"
            ],
            "image/png": "[encoded data removed]"
          },
          "metadata": {
            "needs_background": "light"
          }
        },
        {
          "output_type": "display_data",
          "data": {
            "text/plain": [
              "<Figure size 432x288 with 1 Axes>"
            ],
            "image/png": "[encoded data removed]"
          },
          "metadata": {
            "needs_background": "light"
          }
        },
        {
          "output_type": "display_data",
          "data": {
            "text/plain": [
              "<Figure size 432x288 with 1 Axes>"
            ],
            "image/png": "[encoded data removed]"
          },
          "metadata": {
            "needs_background": "light"
          }
        },
        {
          "output_type": "display_data",
          "data": {
            "text/plain": [
              "<Figure size 432x288 with 1 Axes>"
            ],
            "image/png": "[encoded data removed]"
          },
          "metadata": {
            "needs_background": "light"
          }
        },
        {
          "output_type": "display_data",
          "data": {
            "text/plain": [
              "<Figure size 432x288 with 1 Axes>"
            ],
            "image/png": "[encoded data removed]"
          },
          "metadata": {
            "needs_background": "light"
          }
        },
        {
          "output_type": "display_data",
          "data": {
            "text/plain": [
              "<Figure size 432x288 with 1 Axes>"
            ],
            "image/png": "[encoded data removed]"
          },
          "metadata": {
            "needs_background": "light"
          }
        },
        {
          "output_type": "display_data",
          "data": {
            "text/plain": [
              "<Figure size 432x288 with 1 Axes>"
            ],
            "image/png": "[encoded data removed]"
          },
          "metadata": {
            "needs_background": "light"
          }
        },
        {
          "output_type": "display_data",
          "data": {
            "text/plain": [
              "<Figure size 432x288 with 1 Axes>"
            ],
            "image/png": "[encoded data removed]"
          },
          "metadata": {
            "needs_background": "light"
          }
        }
      ],
      "source": [
        "# Scaling to normalize data\n",
        "X_copy = X.copy()\n",
        "rc = RobustScaler()\n",
        "X_rc=rc.fit_transform(X_copy)\n",
        "X_rc=pd.DataFrame(X_rc,columns=X.columns)\n",
        "\n",
        "for idx,column in enumerate(X_rc.columns):\n",
        "    plt.figure(idx)\n",
        "    X_rc.hist(column=column,grid=False)"
      ]
    },
    {
      "cell_type": "markdown",
      "metadata": {
        "id": "O2N3GpS_t6ZP"
      },
      "source": [
        "## Linear Model with All Features"
      ]
    },
    {
      "cell_type": "markdown",
      "metadata": {
        "id": "Ekk_uzxB5Xip"
      },
      "source": [
        "We will first fit a linear model to see if that would result into something significant. We will be using Stochastic Gradient Descent to find the optimum for this linear model"
      ]
    },
    {
      "cell_type": "code",
      "execution_count": null,
      "metadata": {
        "id": "kgvTz1o3t6ZQ"
      },
      "outputs": [],
      "source": [
        "from sklearn import linear_model\n",
        "from sklearn import metrics\n",
        "X_train, X_test, y_train, y_test = train_test_split(X_rc,Y,test_size=.2)"
      ]
    },
    {
      "cell_type": "code",
      "execution_count": null,
      "metadata": {
        "colab": {
          "base_uri": "https://localhost:8080/"
        },
        "id": "SuSsmA90t6ZS",
        "outputId": "63462c2b-b146-43a9-d7fb-3c4aa8f06429"
      },
      "outputs": [
        {
          "output_type": "execute_result",
          "data": {
            "text/plain": [
              "SGDClassifier()"
            ]
          },
          "metadata": {},
          "execution_count": 33
        }
      ],
      "source": [
        "# Linear model\n",
        "model = linear_model.SGDClassifier()\n",
        "model.fit(X_train, y_train)"
      ]
    },
    {
      "cell_type": "code",
      "execution_count": null,
      "metadata": {
        "id": "pKwPs42Tt6ZU"
      },
      "outputs": [],
      "source": [
        "y_pred = model.predict(X_test)"
      ]
    },
    {
      "cell_type": "code",
      "execution_count": null,
      "metadata": {
        "colab": {
          "base_uri": "https://localhost:8080/"
        },
        "id": "28KwH0w1t6ZX",
        "outputId": "4e2a7ad8-0273-4455-b9f3-f4fefee61221"
      },
      "outputs": [
        {
          "output_type": "execute_result",
          "data": {
            "text/plain": [
              "0.8795620437956204"
            ]
          },
          "metadata": {},
          "execution_count": 35
        }
      ],
      "source": [
        "from sklearn.metrics import accuracy_score\n",
        "accuracy_score(y_test, y_pred)"
      ]
    },
    {
      "cell_type": "code",
      "execution_count": null,
      "metadata": {
        "colab": {
          "base_uri": "https://localhost:8080/"
        },
        "id": "QJaJj4wxt6Za",
        "outputId": "9181abbd-7b2d-4a2d-97ee-413a605e95d6",
        "scrolled": true
      },
      "outputs": [
        {
          "output_type": "execute_result",
          "data": {
            "text/plain": [
              "0.7660872697797991"
            ]
          },
          "metadata": {},
          "execution_count": 36
        }
      ],
      "source": [
        "from sklearn.metrics import roc_auc_score\n",
        "roc_auc_score(y_test, y_pred)"
      ]
    },
    {
      "cell_type": "markdown",
      "metadata": {
        "id": "xBnY2n4gt6Zc"
      },
      "source": [
        "## Random Forest with all Features"
      ]
    },
    {
      "cell_type": "markdown",
      "metadata": {
        "id": "EwlK7Gs-5Xiq"
      },
      "source": [
        "Then, we turn to our Random Forest Classifier. This Classifier creates a set of decision trees from randomly selected subset of training set. It then aggregates the votes from different decision trees to decide the final class of the test object."
      ]
    },
    {
      "cell_type": "code",
      "execution_count": null,
      "metadata": {
        "id": "TF2xUycEt6Zc"
      },
      "outputs": [],
      "source": [
        "from sklearn.ensemble import RandomForestClassifier\n",
        "clf = RandomForestClassifier(max_depth=17, random_state=0)\n",
        "clf.fit(X_train, y_train)\n",
        "y_pred1 = clf.predict(X_test)"
      ]
    },
    {
      "cell_type": "code",
      "execution_count": null,
      "metadata": {
        "colab": {
          "base_uri": "https://localhost:8080/"
        },
        "id": "ly4X7lLut6Zf",
        "outputId": "1d83ca55-c823-4d7e-fd48-457b1b567230"
      },
      "outputs": [
        {
          "output_type": "execute_result",
          "data": {
            "text/plain": [
              "0.8969991889699919"
            ]
          },
          "metadata": {},
          "execution_count": 38
        }
      ],
      "source": [
        "accuracy_score(y_test, y_pred1)"
      ]
    },
    {
      "cell_type": "code",
      "execution_count": null,
      "metadata": {
        "colab": {
          "base_uri": "https://localhost:8080/"
        },
        "id": "Xzrjj--nt6Zh",
        "outputId": "1921b46a-ab1c-4d76-d49d-7098f48b70d3",
        "scrolled": true
      },
      "outputs": [
        {
          "output_type": "execute_result",
          "data": {
            "text/plain": [
              "0.7430784373009798"
            ]
          },
          "metadata": {},
          "execution_count": 39
        }
      ],
      "source": [
        "roc_auc_score(y_test, y_pred1)"
      ]
    },
    {
      "cell_type": "markdown",
      "metadata": {
        "id": "GkzP6gsE5Xir"
      },
      "source": [
        "As we can see the accuracy of the Ranodm Forest Classifier is significantly better as compared to the linear model which is also susceptible to noise. The Area Under ROC Curve is also far better when using a Random FOrest Classifier as compared to linear model. This is so becuase the inbuilt data is not linear but has a classification problem."
      ]
    },
    {
      "cell_type": "markdown",
      "metadata": {
        "id": "Vm91LtXjt6Zi"
      },
      "source": [
        "## Feature Selection"
      ]
    },
    {
      "cell_type": "markdown",
      "metadata": {
        "id": "7go489xd5Xir"
      },
      "source": [
        "There's also a possibility of having redundant features which do not impact our response varible ('VisitorType'). To see if that is a case, we select the most important features (predictors) and see if it is able to achieve the same accuracy with those important features that we selected. The crietrion emploed is to select a specific number of features from the feature list. The general procedure is to rank the features using some algortihm and Chi-sqaured can act as a good one and is used in most cases nowadays. Further, this specific number, k, is a hyperparamater that we specify. Here, we will go ahead with k = 5."
      ]
    },
    {
      "cell_type": "code",
      "execution_count": null,
      "metadata": {
        "colab": {
          "base_uri": "https://localhost:8080/",
          "height": 802
        },
        "id": "-ha_eEGot6Zj",
        "outputId": "c8e1e3cd-0d7c-4020-c2c2-ae793f088f87",
        "scrolled": true
      },
      "outputs": [
        {
          "output_type": "execute_result",
          "data": {
            "text/plain": [
              "                0                  1\n",
              "2   175126.808512         PageValues\n",
              "22   10662.599140   AvgInformational\n",
              "21    6829.412944  AvgAdministrative\n",
              "23    1143.263922  AvgProductRelated\n",
              "18     223.548231                Nov\n",
              "9      115.339482        New_Visitor\n",
              "17      54.997108                May\n",
              "3       53.797094         SpecialDay\n",
              "16      42.613274                Mar\n",
              "0       29.654336        BounceRates\n",
              "1       28.985072          ExitRates\n",
              "13      26.961176                Feb\n",
              "19      12.571184                Oct\n",
              "12      11.624839                Dec\n",
              "5        8.873291            Browser\n",
              "8        8.120464            Weekend\n",
              "15       6.432531               June\n",
              "20       4.744843                Sep\n",
              "6        3.037565             Region\n",
              "11       1.428799                Aug\n",
              "7        1.283194        TrafficType\n",
              "4        1.037132   OperatingSystems\n",
              "10       0.728897              Other\n",
              "14       0.012775                Jul"
            ],
            "text/html": [
              "\n",
              "  <div id=\"df-deb486b7-ce6d-4a88-a159-a684a993fd89\">\n",
              "    <div class=\"colab-df-container\">\n",
              "      <div>\n",
              "<style scoped>\n",
              "    .dataframe tbody tr th:only-of-type {\n",
              "        vertical-align: middle;\n",
              "    }\n",
              "\n",
              "    .dataframe tbody tr th {\n",
              "        vertical-align: top;\n",
              "    }\n",
              "\n",
              "    .dataframe thead th {\n",
              "        text-align: right;\n",
              "    }\n",
              "</style>\n",
              "<table border=\"1\" class=\"dataframe\">\n",
              "  <thead>\n",
              "    <tr style=\"text-align: right;\">\n",
              "      <th></th>\n",
              "      <th>0</th>\n",
              "      <th>1</th>\n",
              "    </tr>\n",
              "  </thead>\n",
              "  <tbody>\n",
              "    <tr>\n",
              "      <th>2</th>\n",
              "      <td>175126.808512</td>\n",
              "      <td>PageValues</td>\n",
              "    </tr>\n",
              "    <tr>\n",
              "      <th>22</th>\n",
              "      <td>10662.599140</td>\n",
              "      <td>AvgInformational</td>\n",
              "    </tr>\n",
              "    <tr>\n",
              "      <th>21</th>\n",
              "      <td>6829.412944</td>\n",
              "      <td>AvgAdministrative</td>\n",
              "    </tr>\n",
              "    <tr>\n",
              "      <th>23</th>\n",
              "      <td>1143.263922</td>\n",
              "      <td>AvgProductRelated</td>\n",
              "    </tr>\n",
              "    <tr>\n",
              "      <th>18</th>\n",
              "      <td>223.548231</td>\n",
              "      <td>Nov</td>\n",
              "    </tr>\n",
              "    <tr>\n",
              "      <th>9</th>\n",
              "      <td>115.339482</td>\n",
              "      <td>New_Visitor</td>\n",
              "    </tr>\n",
              "    <tr>\n",
              "      <th>17</th>\n",
              "      <td>54.997108</td>\n",
              "      <td>May</td>\n",
              "    </tr>\n",
              "    <tr>\n",
              "      <th>3</th>\n",
              "      <td>53.797094</td>\n",
              "      <td>SpecialDay</td>\n",
              "    </tr>\n",
              "    <tr>\n",
              "      <th>16</th>\n",
              "      <td>42.613274</td>\n",
              "      <td>Mar</td>\n",
              "    </tr>\n",
              "    <tr>\n",
              "      <th>0</th>\n",
              "      <td>29.654336</td>\n",
              "      <td>BounceRates</td>\n",
              "    </tr>\n",
              "    <tr>\n",
              "      <th>1</th>\n",
              "      <td>28.985072</td>\n",
              "      <td>ExitRates</td>\n",
              "    </tr>\n",
              "    <tr>\n",
              "      <th>13</th>\n",
              "      <td>26.961176</td>\n",
              "      <td>Feb</td>\n",
              "    </tr>\n",
              "    <tr>\n",
              "      <th>19</th>\n",
              "      <td>12.571184</td>\n",
              "      <td>Oct</td>\n",
              "    </tr>\n",
              "    <tr>\n",
              "      <th>12</th>\n",
              "      <td>11.624839</td>\n",
              "      <td>Dec</td>\n",
              "    </tr>\n",
              "    <tr>\n",
              "      <th>5</th>\n",
              "      <td>8.873291</td>\n",
              "      <td>Browser</td>\n",
              "    </tr>\n",
              "    <tr>\n",
              "      <th>8</th>\n",
              "      <td>8.120464</td>\n",
              "      <td>Weekend</td>\n",
              "    </tr>\n",
              "    <tr>\n",
              "      <th>15</th>\n",
              "      <td>6.432531</td>\n",
              "      <td>June</td>\n",
              "    </tr>\n",
              "    <tr>\n",
              "      <th>20</th>\n",
              "      <td>4.744843</td>\n",
              "      <td>Sep</td>\n",
              "    </tr>\n",
              "    <tr>\n",
              "      <th>6</th>\n",
              "      <td>3.037565</td>\n",
              "      <td>Region</td>\n",
              "    </tr>\n",
              "    <tr>\n",
              "      <th>11</th>\n",
              "      <td>1.428799</td>\n",
              "      <td>Aug</td>\n",
              "    </tr>\n",
              "    <tr>\n",
              "      <th>7</th>\n",
              "      <td>1.283194</td>\n",
              "      <td>TrafficType</td>\n",
              "    </tr>\n",
              "    <tr>\n",
              "      <th>4</th>\n",
              "      <td>1.037132</td>\n",
              "      <td>OperatingSystems</td>\n",
              "    </tr>\n",
              "    <tr>\n",
              "      <th>10</th>\n",
              "      <td>0.728897</td>\n",
              "      <td>Other</td>\n",
              "    </tr>\n",
              "    <tr>\n",
              "      <th>14</th>\n",
              "      <td>0.012775</td>\n",
              "      <td>Jul</td>\n",
              "    </tr>\n",
              "  </tbody>\n",
              "</table>\n",
              "</div>\n",
              "      <button class=\"colab-df-convert\" onclick=\"convertToInteractive('df-deb486b7-ce6d-4a88-a159-a684a993fd89')\"\n",
              "              title=\"Convert this dataframe to an interactive table.\"\n",
              "              style=\"display:none;\">\n",
              "        \n",
              "  <svg xmlns=\"http://www.w3.org/2000/svg\" height=\"24px\"viewBox=\"0 0 24 24\"\n",
              "       width=\"24px\">\n",
              "    <path d=\"M0 0h24v24H0V0z\" fill=\"none\"/>\n",
              "    <path d=\"M18.56 5.44l.94 2.06.94-2.06 2.06-.94-2.06-.94-.94-2.06-.94 2.06-2.06.94zm-11 1L8.5 8.5l.94-2.06 2.06-.94-2.06-.94L8.5 2.5l-.94 2.06-2.06.94zm10 10l.94 2.06.94-2.06 2.06-.94-2.06-.94-.94-2.06-.94 2.06-2.06.94z\"/><path d=\"M17.41 7.96l-1.37-1.37c-.4-.4-.92-.59-1.43-.59-.52 0-1.04.2-1.43.59L10.3 9.45l-7.72 7.72c-.78.78-.78 2.05 0 2.83L4 21.41c.39.39.9.59 1.41.59.51 0 1.02-.2 1.41-.59l7.78-7.78 2.81-2.81c.8-.78.8-2.07 0-2.86zM5.41 20L4 18.59l7.72-7.72 1.47 1.35L5.41 20z\"/>\n",
              "  </svg>\n",
              "      </button>\n",
              "      \n",
              "  <style>\n",
              "    .colab-df-container {\n",
              "      display:flex;\n",
              "      flex-wrap:wrap;\n",
              "      gap: 12px;\n",
              "    }\n",
              "\n",
              "    .colab-df-convert {\n",
              "      background-color: #E8F0FE;\n",
              "      border: none;\n",
              "      border-radius: 50%;\n",
              "      cursor: pointer;\n",
              "      display: none;\n",
              "      fill: #1967D2;\n",
              "      height: 32px;\n",
              "      padding: 0 0 0 0;\n",
              "      width: 32px;\n",
              "    }\n",
              "\n",
              "    .colab-df-convert:hover {\n",
              "      background-color: #E2EBFA;\n",
              "      box-shadow: 0px 1px 2px rgba(60, 64, 67, 0.3), 0px 1px 3px 1px rgba(60, 64, 67, 0.15);\n",
              "      fill: #174EA6;\n",
              "    }\n",
              "\n",
              "    [theme=dark] .colab-df-convert {\n",
              "      background-color: #3B4455;\n",
              "      fill: #D2E3FC;\n",
              "    }\n",
              "\n",
              "    [theme=dark] .colab-df-convert:hover {\n",
              "      background-color: #434B5C;\n",
              "      box-shadow: 0px 1px 3px 1px rgba(0, 0, 0, 0.15);\n",
              "      filter: drop-shadow(0px 1px 2px rgba(0, 0, 0, 0.3));\n",
              "      fill: #FFFFFF;\n",
              "    }\n",
              "  </style>\n",
              "\n",
              "      <script>\n",
              "        const buttonEl =\n",
              "          document.querySelector('#df-deb486b7-ce6d-4a88-a159-a684a993fd89 button.colab-df-convert');\n",
              "        buttonEl.style.display =\n",
              "          google.colab.kernel.accessAllowed ? 'block' : 'none';\n",
              "\n",
              "        async function convertToInteractive(key) {\n",
              "          const element = document.querySelector('#df-deb486b7-ce6d-4a88-a159-a684a993fd89');\n",
              "          const dataTable =\n",
              "            await google.colab.kernel.invokeFunction('convertToInteractive',\n",
              "                                                     [key], {});\n",
              "          if (!dataTable) return;\n",
              "\n",
              "          const docLinkHtml = 'Like what you see? Visit the ' +\n",
              "            '<a target=\"_blank\" href=https://colab.research.google.com/notebooks/data_table.ipynb>data table notebook</a>'\n",
              "            + ' to learn more about interactive tables.';\n",
              "          element.innerHTML = '';\n",
              "          dataTable['output_type'] = 'display_data';\n",
              "          await google.colab.output.renderOutput(dataTable, element);\n",
              "          const docLink = document.createElement('div');\n",
              "          docLink.innerHTML = docLinkHtml;\n",
              "          element.appendChild(docLink);\n",
              "        }\n",
              "      </script>\n",
              "    </div>\n",
              "  </div>\n",
              "  "
            ]
          },
          "metadata": {},
          "execution_count": 40
        }
      ],
      "source": [
        "from sklearn import svm\n",
        "from sklearn.feature_selection import SelectKBest\n",
        "from sklearn.feature_selection import chi2\n",
        "list_one =[]\n",
        "feature_ranking = SelectKBest(chi2, k=5)\n",
        "fit = feature_ranking.fit(X, Y)\n",
        "\n",
        "fmt = '%-8s%-20s%s'\n",
        "\n",
        "for i, (score, feature) in enumerate(zip(feature_ranking.scores_, X.columns)):\n",
        "    list_one.append((score, feature))\n",
        "    \n",
        "dfObj = pd.DataFrame(list_one) \n",
        "dfObj.sort_values(by=[0], ascending = False)"
      ]
    },
    {
      "cell_type": "code",
      "execution_count": null,
      "metadata": {
        "id": "9GenMasMt6Zl"
      },
      "outputs": [],
      "source": [
        "X_rc.drop(['Aug','TrafficType','OperatingSystems','Other','Jul'],axis=1,inplace=True)"
      ]
    },
    {
      "cell_type": "code",
      "execution_count": null,
      "metadata": {
        "id": "bkF9wv_St6Zn"
      },
      "outputs": [],
      "source": [
        "X_train1, X_test1, y_train1, y_test1 = train_test_split(X_rc,Y,test_size=.2)"
      ]
    },
    {
      "cell_type": "markdown",
      "metadata": {
        "id": "YO8E1_tQu6n2"
      },
      "source": [
        "# LogisticRegression with Feature Selection Dataframe"
      ]
    },
    {
      "cell_type": "markdown",
      "metadata": {
        "id": "rGk-fAfW5Xis"
      },
      "source": [
        "We now employ the basic Logistic Regression Model with dataset consisting most important features"
      ]
    },
    {
      "cell_type": "code",
      "execution_count": null,
      "metadata": {
        "id": "vpBpzaWo5Xis"
      },
      "outputs": [],
      "source": [
        "from sklearn.linear_model import LogisticRegression\n",
        "from sklearn.metrics import accuracy_score\n",
        "log_reg = LogisticRegression(solver='lbfgs',multi_class='multinomial',max_iter = 10000)\n",
        "log_reg.fit(X_train1,y_train1)\n",
        "y_pred4 = log_reg.predict(X_test1)\n",
        "\n"
      ]
    },
    {
      "cell_type": "code",
      "execution_count": null,
      "metadata": {
        "colab": {
          "base_uri": "https://localhost:8080/"
        },
        "id": "PKNpIiLD5Xis",
        "outputId": "c55a9b9d-8b5a-4b7c-a012-18e7bd5eeb4b"
      },
      "outputs": [
        {
          "output_type": "stream",
          "name": "stdout",
          "text": [
            "Accuracy is  0.8860502838605029\n",
            "Area Under ROC  0.6803505261597748\n"
          ]
        }
      ],
      "source": [
        "print(\"Accuracy is \",accuracy_score(y_pred4,y_test1))\n",
        "print(\"Area Under ROC \",roc_auc_score(y_test1, y_pred4))"
      ]
    },
    {
      "cell_type": "markdown",
      "metadata": {
        "id": "tnXBXIa55Xis"
      },
      "source": [
        "We see that the test accuracy is not bad but good employing just a simple function of Logistic Regression with our Important features. This bolds out the importance of feature selection"
      ]
    },
    {
      "cell_type": "markdown",
      "metadata": {
        "id": "tC73Cau0t6Zr"
      },
      "source": [
        "## Random Forest Classifier with Feature Selection Dataframe"
      ]
    },
    {
      "cell_type": "markdown",
      "metadata": {
        "id": "JMYeWism5Xis"
      },
      "source": [
        "We now go ahead with using the important features we selected to train the Random Forest Classifier."
      ]
    },
    {
      "cell_type": "code",
      "execution_count": null,
      "metadata": {
        "id": "K4as_6r1t6Zr"
      },
      "outputs": [],
      "source": [
        "clf1 = RandomForestClassifier(n_estimators= 200, max_depth = 30 )\n",
        "clf1.fit(X_train1, y_train1)\n",
        "y_pred2 = clf1.predict(X_test1)"
      ]
    },
    {
      "cell_type": "code",
      "execution_count": null,
      "metadata": {
        "colab": {
          "base_uri": "https://localhost:8080/"
        },
        "id": "DsNRMo5ut6Zt",
        "outputId": "6e107e25-80aa-4038-c11d-88d4ec646bdd"
      },
      "outputs": [
        {
          "output_type": "execute_result",
          "data": {
            "text/plain": [
              "0.8986212489862125"
            ]
          },
          "metadata": {},
          "execution_count": 46
        }
      ],
      "source": [
        "accuracy_score(y_test1, y_pred2)"
      ]
    },
    {
      "cell_type": "code",
      "execution_count": null,
      "metadata": {
        "colab": {
          "base_uri": "https://localhost:8080/"
        },
        "id": "kjAIuGXOt6Zv",
        "outputId": "502f3b91-bf73-465b-8f1b-a92cef919983"
      },
      "outputs": [
        {
          "output_type": "execute_result",
          "data": {
            "text/plain": [
              "0.7534126278345931"
            ]
          },
          "metadata": {},
          "execution_count": 47
        }
      ],
      "source": [
        "roc_auc_score(y_test1, y_pred2)"
      ]
    },
    {
      "cell_type": "markdown",
      "metadata": {
        "id": "qMMQUtEp5Xit"
      },
      "source": [
        "We see that almost the same accuracy is obtained from the dataset with important features as compared to the original dataset. This indicates that we could successfully select the best features when accuracy of RFG is concerned. "
      ]
    },
    {
      "cell_type": "markdown",
      "metadata": {
        "id": "0_kNFadyt6Zw"
      },
      "source": [
        "## XGBoost Classifier with Feature Selection Dataframe"
      ]
    },
    {
      "cell_type": "markdown",
      "metadata": {
        "id": "x3HOBmkH5Xit"
      },
      "source": [
        "The fammous XGBoost Classifier that is, Extreme Gradient Boosting is employed next. The mathematics is somewhat tricky, however, it can be considered as connecting many weak decision trees to create a model which is further improved by gwtting trained on residual errors of its predecessor. Further, weights are assigned to all the independent variables which are then fed into the decision tree which predicts results. The weight of variables predicted wrong by the tree is increased and these variables are then fed to the second decision tree and this goes on until the maximum limit is reached. These individual classifiers/predictors then ensemble to give a strong and more precise model"
      ]
    },
    {
      "cell_type": "code",
      "execution_count": null,
      "metadata": {
        "colab": {
          "base_uri": "https://localhost:8080/"
        },
        "id": "81VzzZ3Bt6Zx",
        "outputId": "a3fe95ef-ecbc-41fa-c60b-44de1ab37979"
      },
      "outputs": [
        {
          "output_type": "execute_result",
          "data": {
            "text/plain": [
              "XGBClassifier(max_depth=13, min_child_weight=3, n_estimators=150)"
            ]
          },
          "metadata": {},
          "execution_count": 48
        }
      ],
      "source": [
        "model = XGBClassifier(learning_rate = 0.1, n_estimators=150, min_child_weight=3,  max_depth=13)\n",
        "model.fit(X_train1, y_train1)"
      ]
    },
    {
      "cell_type": "code",
      "execution_count": null,
      "metadata": {
        "id": "yobEBzxet6Zz"
      },
      "outputs": [],
      "source": [
        "y_pred3 = model.predict(X_test1)"
      ]
    },
    {
      "cell_type": "code",
      "execution_count": null,
      "metadata": {
        "colab": {
          "base_uri": "https://localhost:8080/"
        },
        "id": "4P-QwRist6Z1",
        "outputId": "611ad3a1-b9a3-4378-bc88-1db46d50d72f"
      },
      "outputs": [
        {
          "output_type": "execute_result",
          "data": {
            "text/plain": [
              "0.8905109489051095"
            ]
          },
          "metadata": {},
          "execution_count": 50
        }
      ],
      "source": [
        "accuracy_score(y_test1, y_pred3)"
      ]
    },
    {
      "cell_type": "code",
      "execution_count": null,
      "metadata": {
        "colab": {
          "base_uri": "https://localhost:8080/"
        },
        "id": "SpTyY5NHt6Z2",
        "outputId": "fbacb14a-db50-46ae-cd8e-67e88f7338be"
      },
      "outputs": [
        {
          "output_type": "execute_result",
          "data": {
            "text/plain": [
              "0.752760486141989"
            ]
          },
          "metadata": {},
          "execution_count": 51
        }
      ],
      "source": [
        "roc_auc_score(y_test1, y_pred3)"
      ]
    },
    {
      "cell_type": "markdown",
      "metadata": {
        "id": "ZcdVZwkz5Xiu"
      },
      "source": [
        "## Gaussian Naive Bayes with Feature Selection Dataframe"
      ]
    },
    {
      "cell_type": "markdown",
      "metadata": {
        "id": "Bmj4-TjK5Xiv"
      },
      "source": [
        "We then go on with the Gaussian Naive Bayes Model which assumes the features are independent of each other with the feature Selection Dataframe"
      ]
    },
    {
      "cell_type": "code",
      "execution_count": null,
      "metadata": {
        "colab": {
          "base_uri": "https://localhost:8080/"
        },
        "id": "WWKBhtzQ5Xiv",
        "outputId": "8d0b2427-f845-4833-f65b-da4cff13e2ea"
      },
      "outputs": [
        {
          "output_type": "stream",
          "name": "stdout",
          "text": [
            "Accuracy is  0.6171938361719383\n",
            "ROC-AUC Score is  0.715373499333037\n"
          ]
        }
      ],
      "source": [
        "from sklearn.naive_bayes import GaussianNB\n",
        "GNB = GaussianNB()\n",
        "GNB.fit(X_train1,y_train1)\n",
        "y_pred5 = GNB.predict(X_test1)\n",
        "print(\"Accuracy is \",accuracy_score(y_pred5,y_test1))\n",
        "print(\"ROC-AUC Score is \",roc_auc_score(y_test1, y_pred5))"
      ]
    },
    {
      "cell_type": "markdown",
      "metadata": {
        "id": "R4f_pjUj5Xiv"
      },
      "source": [
        "# KNN classifier with Feature Selection Dataframe"
      ]
    },
    {
      "cell_type": "code",
      "execution_count": null,
      "metadata": {
        "colab": {
          "base_uri": "https://localhost:8080/"
        },
        "id": "0mTSntRx5Xiv",
        "outputId": "eb00185d-628a-4cc5-9861-97cf0aa59cea"
      },
      "outputs": [
        {
          "output_type": "stream",
          "name": "stdout",
          "text": [
            "Accuracy is  0.8771289537712895\n",
            "ROC-AUC Score is  0.686505113383726\n"
          ]
        }
      ],
      "source": [
        "from sklearn.neighbors import KNeighborsClassifier\n",
        "knn = KNeighborsClassifier(n_neighbors = 6)\n",
        "knn.fit(X_train1,y_train1)\n",
        "y_pred6 = knn.predict(X_test1)\n",
        "print(\"Accuracy is \",accuracy_score(y_pred6,y_test1))\n",
        "print(\"ROC-AUC Score is \",roc_auc_score(y_test1, y_pred6))"
      ]
    },
    {
      "cell_type": "code",
      "execution_count": null,
      "metadata": {
        "id": "MC-gbemY5Xiw"
      },
      "outputs": [],
      "source": [
        "#X_train1.shape"
      ]
    },
    {
      "cell_type": "markdown",
      "metadata": {
        "id": "R8W8UkQW5Xiw"
      },
      "source": [
        "# SVM Classification with PCA feature reduction technique"
      ]
    },
    {
      "cell_type": "markdown",
      "metadata": {
        "id": "H4wRut795Xiw"
      },
      "source": [
        "PCA stands for Principla Component Analysis. It converts (transforms) the high dimensional data into low dimensional data with a linear funciton. Here, rather rejecting the non important features as in feature Selection, every original feature is linearly combined to make the new transformed features. Thus, contribution from each feature is present in the transformed feature. The low dimension is a hyperparamter that we choose. We further use a Support Vector Machine as our classifier"
      ]
    },
    {
      "cell_type": "code",
      "execution_count": null,
      "metadata": {
        "colab": {
          "base_uri": "https://localhost:8080/"
        },
        "id": "GVWTjGxd5Xiw",
        "outputId": "e00721df-d262-4c7c-96dd-5ca20e902400"
      },
      "outputs": [
        {
          "output_type": "stream",
          "name": "stdout",
          "text": [
            "0.9999776253229073\n"
          ]
        }
      ],
      "source": [
        "from sklearn.decomposition import PCA\n",
        "pca = PCA(n_components=15)\n",
        "d=pca.fit_transform(X_train1)\n",
        "e=pca.fit_transform(X_test1)\n",
        "print(pca.explained_variance_ratio_.sum())"
      ]
    },
    {
      "cell_type": "code",
      "execution_count": null,
      "metadata": {
        "colab": {
          "base_uri": "https://localhost:8080/"
        },
        "id": "UsSYVK7-5Xiw",
        "outputId": "e8797e7a-e454-4b4d-de6a-f0cac7a4b37d"
      },
      "outputs": [
        {
          "output_type": "stream",
          "name": "stdout",
          "text": [
            "Accuracy is  0.8921330089213301\n",
            "ROC-AUC Score is  0.748517859789536\n"
          ]
        }
      ],
      "source": [
        "from sklearn.svm import SVC\n",
        "svm = SVC()\n",
        "svm.fit(d,y_train1)\n",
        "y_pred7 = svm.predict(e)\n",
        "print(\"Accuracy is \",accuracy_score(y_pred7,y_test1))\n",
        "print(\"ROC-AUC Score is \",roc_auc_score(y_test1, y_pred7))\n"
      ]
    },
    {
      "cell_type": "markdown",
      "metadata": {
        "id": "gGi5v91s5Xiw"
      },
      "source": [
        "# SVM Classification with  Feature Selection Dataframe"
      ]
    },
    {
      "cell_type": "code",
      "execution_count": null,
      "metadata": {
        "colab": {
          "base_uri": "https://localhost:8080/"
        },
        "id": "zjYMeZ_a5Xiw",
        "outputId": "5fc33247-ece1-4457-ca8e-ec90a4e2ecd6"
      },
      "outputs": [
        {
          "output_type": "stream",
          "name": "stdout",
          "text": [
            "Accuracy is  0.8933495539334956\n",
            "ROC-AUC Score is  0.7534052171335409\n"
          ]
        }
      ],
      "source": [
        "from sklearn.svm import SVC\n",
        "svm = SVC()\n",
        "svm.fit(X_train1,y_train1)\n",
        "y_pred8 = svm.predict(X_test1)\n",
        "print(\"Accuracy is \",accuracy_score(y_pred8,y_test1))\n",
        "print(\"ROC-AUC Score is \",roc_auc_score(y_test1, y_pred8))"
      ]
    },
    {
      "cell_type": "markdown",
      "metadata": {
        "id": "NQo-88L25Xix"
      },
      "source": [
        "# Neural Network Classifier With Feature Selection Dataframe"
      ]
    },
    {
      "cell_type": "markdown",
      "metadata": {
        "id": "YONKQFpg5Xix"
      },
      "source": [
        "We lastly train A neural network classifier on our feature Selection Dataframe."
      ]
    },
    {
      "cell_type": "code",
      "execution_count": null,
      "metadata": {
        "colab": {
          "base_uri": "https://localhost:8080/"
        },
        "id": "0YqX47-i5Xix",
        "outputId": "cb3e156d-dbc9-4bcd-ed49-6680c8f0c1b1"
      },
      "outputs": [
        {
          "output_type": "stream",
          "name": "stdout",
          "text": [
            "Accuracy is  0.8961881589618816\n",
            "ROC-AUC Score is  0.7759152215799615\n"
          ]
        }
      ],
      "source": [
        "from sklearn.neural_network import MLPClassifier\n",
        "\n",
        "mlp = MLPClassifier(hidden_layer_sizes=(19,19,19), activation='relu', solver='adam', max_iter=500)\n",
        "mlp.fit(X_train1,y_train1)\n",
        "y_pred9= mlp.predict(X_test1)\n",
        "print(\"Accuracy is \",accuracy_score(y_pred9,y_test1))\n",
        "print(\"ROC-AUC Score is \",roc_auc_score(y_test1, y_pred9))"
      ]
    },
    {
      "cell_type": "markdown",
      "source": [
        "**Accuracy Summary:**\n",
        "\n",
        "---\n",
        "\n",
        "\n",
        "\n",
        "\n",
        "1.   Logistic Regression  -- 88.6%\n",
        "2.   Random Forest -- 89.60%\n",
        "3.   XGBoost Classifier -- 89.05%\n",
        "4.   Gaussian Naive Bayes -- 61.71%\n",
        "5.   KNN classifier -- 87.71% \n",
        "6.   SVM Classification with PCA feature reduction technique -- 89.21%\n",
        "7.   SVM Classification with Feature Selection Dataframe -- 89.33%\n",
        "8.   Neural Network Classifier -- 89.61%\n",
        "\n",
        "\n",
        "\n",
        "\n"
      ],
      "metadata": {
        "id": "OuH1im1sAfTh"
      }
    },
    {
      "cell_type": "code",
      "source": [],
      "metadata": {
        "id": "C1SDysLlDOmY"
      },
      "execution_count": null,
      "outputs": []
    }
  ],
  "metadata": {
    "colab": {
      "provenance": []
    },
    "kernelspec": {
      "display_name": "Python 3 (ipykernel)",
      "language": "python",
      "name": "python3"
    },
    "language_info": {
      "codemirror_mode": {
        "name": "ipython",
        "version": 3
      },
      "file_extension": ".py",
      "mimetype": "text/x-python",
      "name": "python",
      "nbconvert_exporter": "python",
      "pygments_lexer": "ipython3",
      "version": "3.9.12"
    }
  },
  "nbformat": 4,
  "nbformat_minor": 0
}
